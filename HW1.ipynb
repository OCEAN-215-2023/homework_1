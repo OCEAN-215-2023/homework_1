{
 "cells": [
  {
   "cell_type": "markdown",
   "metadata": {
    "id": "Cz1DY5FHoUVh"
   },
   "source": [
    "# Homework #1\n",
    "\n",
    "**Due: Friday Oct. 13th @ 11:59 pm**\n",
    "\n",
    "**Objective:** This assignment will give you experience using a Jupyter notebook to write text and code, including variables, mathematical operations, string, and list manipulations.\n",
    "\n",
    "\n",
    "## **Instructions:**\n",
    "### Accessing Class Code\n",
    "\n",
    "1. Create a new **_private_** repository on your GitHub and name it \"homework_1\". This will be your personal GitHub repository that you will submit to Gradescope.\n",
    "\n",
    "2. Go to the class GitHub Homework 1 [repository](https://github.com/OCEAN-215-2023/homework_1). \n",
    "\n",
    "3. Find the **SSH** URL (review Assignment #0b if you don't remember how to do this), and copy the URL to your clipboard.\n",
    "\n",
    "4. In your JupyterHub terminal, change to your home directory. Run this line of code to clone the public classic repository into your local server: \n",
    "> ``` git clone git@github.com:OCEAN-215-2023/homework_1.git ```\n",
    "\n",
    "5. Sometimes, our JupyterHub server has trouble remembering the file permissions for our SSH keys. If you get a file permission error with your private ssh key, run this line of code:\n",
    "> ```chmod 400 ~/.ssh/id_ed25519```\n",
    "\n",
    "6. There should now be a \"homework_1\" directory in the home directory of your JupyterHub. In terminal, change directories into \"homework_1\". Next, click on the the \"homework_1\" icon on the filepath hierarchy in the left panel of JupyterHub. If you don't see it, make sure you're in the home folder by clicking the folder icon under the search bar. \n",
    "\n",
    "7. In terminal, set your branch to main (step 17 in #0b) and your remote (origin) to your **_personal_** \"homework_1\" GitHub repository (step 18).  \n",
    "\n",
    "8. Double click the \"HW1.ipynb\" to open it in a new tab and begin working on the assignment. \n",
    "\n",
    "9. Create a README file and write your name and UW NetID. You can also include other information, such as how you used git to add, commit, and push to your GitHub if you want more practice.\n",
    "\n",
    "10. As you continue to answer the homework questions and make edits to your code, make sure to regularly update your GitHub repository as well via git add, commit, and push (steps 15, 16, 19). A good rule of thumb would be to run these git steps anytime you make an addition or change that you don't want to accidentally lose. Generally, you can push once a day to maintain good version control. \n",
    "\n",
    "### Submitting to GradeScope\n",
    "\n",
    "11. Go to the class Gradescope dashboard and submit your **_private_** GitHub repository link to Homework 1 assignment. Make sure your GitHub is synchronized with Gradescope to access both your public _and_ private repositories. If prompted, log in to GitHub.\n",
    "\n",
    "12. Run the autograder to check if your code runs and if you passed the initial unit tests. You should be able to run the autograder as many times as you want before submitting.\n",
    "\n",
    "13. Make sure to double check that you have submitted the assignment. If you make any more changes to your code after submitting to Gradescope, make sure to push your changes to GitHub and resubmit the assignment on Gradescope. You can submit as many times as you want as there is no maximum submission attempts, but be sure to have your final submission in before the deadline.\n",
    "\n",
    "### Honor Code\n",
    "\n",
    "- Complete the assignment by writing and executing text and code cells as specified. For this assignment, do not use any features of Python that have not yet been discussed in the lessons or class sessions.\n",
    "\n",
    "- Please keep in mind our late work and dropped homework grading policy. Review the syllabus for details.\n",
    "\n",
    "- In the space below, you can acknowledge and describe any assistance you've received on this assignment, whether that was from an instructor, classmate (either directly or on Piazza), and/or online resources other than official Python documentation websites like docs.python.org or numpy.org. Alternatively, if you prefer, you may acknowledge assistance at the relevant point(s) in your code using a Python comment (#). Don't forget that you can receive extra credit from answering at least one question on Ed Discussion!"
   ]
  },
  {
   "cell_type": "markdown",
   "metadata": {
    "id": "JzQ3NOnhpE52"
   },
   "source": [
    "*Acknowledge assistance here or in comments above your code:*\n",
    "\n",
    "\n",
    "\n"
   ]
  },
  {
   "cell_type": "markdown",
   "metadata": {
    "deletable": false,
    "editable": false,
    "id": "_HuZa_4SsZ0t"
   },
   "source": [
    "<!-- BEGIN QUESTION -->\n",
    "\n",
    "# Question 1 (20 points)\n",
    "\n",
    "Although the goal of OCEAN 215 is not to teach \"data science\" per se, we hope this course will give you a window into the possibilities offered by data analysis. If you find that you enjoy working with data and writing computer code, you might want to consider a career in academic research or data science. But what is data science, precisely? To better understand this rapidly-growing field, we would like you to read the following article (which should take about 15 minutes), then answer the questions below. There are no wrong answers, but please respond thoughtfully with 2-3 sentences for each. \n",
    "\n",
    "Article: \"What is data science?\" Thinkful. https://www.thinkful.com/blog/what-is-data-science/. Read up until the \"Your Turn\" section.\n",
    "\n",
    "> a) What data do you think you have generated today that might, at some point, be analyzed by a data scientist (5 points)?\n",
    "\n",
    "> b) Can you think of an oceanography data set that could be considered \"big data\"? Why would it be classified as such (5 points)?\n",
    "\n",
    "> c) The article describes how machine learning can be useful for making predictions and identifying relationships in data. Can you think of a research question or task in oceanography or your academic area of interest that might benefit from machine learning? Why might machine learning be particularly useful for that task (10 points)?"
   ]
  },
  {
   "cell_type": "markdown",
   "metadata": {},
   "source": [
    "_Type your answer here, replacing this text._"
   ]
  },
  {
   "cell_type": "markdown",
   "metadata": {
    "deletable": false,
    "editable": false,
    "id": "ZzurJXqctOka"
   },
   "source": [
    "<!-- END QUESTION -->\n",
    "\n",
    "# Question 2 (25 points)\n",
    "\n",
    "The depth of the photic zone (the maximum depth where photosynthesis can occur) in the ocean varies. In clear, pelagic water the photic zone extends to 200 meters depth. In turbid coastal water, the photic zone might only extend to 50 meters depth.\n",
    "\n",
    "Diatoms are a type of phytoplankon (plankton that photosynthesize for energy). They have silica cell walls, and have no appendages for swimming. They must remain near the ocean surface in the photic zone to photosynthesize. To do this, they regulate their bouyancy to sink as slowly as possible. A small diatom might sink 0.9 feet/day, while a large one might sink 13.5 feet/day.\n",
    "\n",
    "Use this information to answer the following questions by writing Python code in the cell below. **Please have your code output (print) each question part and the solution, including the units!**\n",
    "\n",
    "\n",
    "> a) Assign the depth of the pelagic photic zone, coastal photic zone, small diatom sinking rate, and large diatom sinking rates to assigned variable names and print them. (5 points)\n",
    "\n",
    "> b) Convert the sinking rate of each diatom type to meters/day. (5 points)\n",
    "\n",
    "> c) Convert the sinking rate of each diatom type to centimeters/hour. (5 points)\n",
    "\n",
    "> d) Calculate how many days it would take for each diatom type to sink from the sea surface to the bottom of the photic zone in turbid coastal water. (5 points)\n",
    "\n",
    "> e) Calculate how many days it would take for each diatom type to sink from the sea surface to the bottom of the photic zone in clear pelagic water. (5 points)\n"
   ]
  },
  {
   "cell_type": "code",
   "execution_count": null,
   "metadata": {
    "colab": {
     "base_uri": "https://localhost:8080/"
    },
    "deletable": false,
    "editable": false,
    "executionInfo": {
     "elapsed": 252,
     "status": "ok",
     "timestamp": 1663810978194,
     "user": {
      "displayName": "Rose Sharon Wade",
      "userId": "05902729209638962087"
     },
     "user_tz": 420
    },
    "id": "TRamoLaroR6_",
    "outputId": "3f0e2b29-ad09-4e35-e62a-1affc67566f2",
    "tags": []
   },
   "outputs": [],
   "source": [
    "##Example code for printing answers\n",
    "\"\"\"\n",
    "answer = 50\n",
    "units = \"hours\"\n",
    "print(\"part f)\",answer,units)\n",
    "\"\"\"\n",
    "# Provide your answers in the cells below:"
   ]
  },
  {
   "cell_type": "markdown",
   "metadata": {
    "deletable": false,
    "editable": false
   },
   "source": [
    "### part a\n",
    "Assign the depth of the pelagic photic zone, coastal photic zone, small diatom sinking rate, and large diatom sinking rates to assigned variable names and print them. (5 points)"
   ]
  },
  {
   "cell_type": "code",
   "execution_count": null,
   "metadata": {
    "tags": []
   },
   "outputs": [],
   "source": [
    "pelagic = ...\n",
    "coastal = ...\n",
    "time = ...\n",
    "depth = ...\n",
    "metricdepth = ...\n",
    "sdiatom = ...\n",
    "ldiatom = ...\n",
    "print(...)"
   ]
  },
  {
   "cell_type": "markdown",
   "metadata": {
    "deletable": false,
    "editable": false
   },
   "source": [
    "### part b\n",
    "Convert the sinking rate of each diatom type to meters/day. (5 points)"
   ]
  },
  {
   "cell_type": "code",
   "execution_count": null,
   "metadata": {
    "tags": []
   },
   "outputs": [],
   "source": [
    "ft_to_m=3.2808399\n",
    "sdiatom ...\n",
    "ldiatom ...\n",
    "depth = ...\n",
    "print(...)"
   ]
  },
  {
   "cell_type": "markdown",
   "metadata": {
    "deletable": false,
    "editable": false
   },
   "source": [
    "### part c\n",
    "Convert the sinking rate of each diatom type to centimeters/hour. (5 points)"
   ]
  },
  {
   "cell_type": "code",
   "execution_count": null,
   "metadata": {
    "tags": []
   },
   "outputs": [],
   "source": [
    "day_to_hours = ...\n",
    "m_to_cm = ...\n",
    "sdiatom ...\n",
    "ldiatom ...\n",
    "print(...)"
   ]
  },
  {
   "cell_type": "markdown",
   "metadata": {
    "deletable": false,
    "editable": false
   },
   "source": [
    "### part d\n",
    "Calculate how many days it would take for each diatom type to sink from the sea surface to the bottom of the photic zone in turbid coastal water. (5 points)"
   ]
  },
  {
   "cell_type": "code",
   "execution_count": null,
   "metadata": {
    "tags": []
   },
   "outputs": [],
   "source": [
    "sdiatom ...\n",
    "ldiatom ...\n",
    "sdiatomsink = ...\n",
    "ldiatomsink = ...\n",
    "print(...)"
   ]
  },
  {
   "cell_type": "markdown",
   "metadata": {
    "deletable": false,
    "editable": false,
    "tags": []
   },
   "source": [
    "### part e\n",
    "Calculate how many days it would take for each diatom type to sink from the sea surface to the bottom of the photic zone in clear pelagic water. (5 points)"
   ]
  },
  {
   "cell_type": "code",
   "execution_count": null,
   "metadata": {
    "tags": []
   },
   "outputs": [],
   "source": [
    "sdiatomsink = ...\n",
    "ldiatomsink = ...\n",
    "print(...)"
   ]
  },
  {
   "cell_type": "markdown",
   "metadata": {
    "deletable": false,
    "editable": false,
    "id": "XakGxAc8oTgh"
   },
   "source": [
    "# Question 3 (20 points)\n",
    "\n",
    "Ribosomal RNA (rRNA) gene sequencing is often used in phylogenetic research. Each sequence is made up of combinations of 4 different nucleobases, adenine (A), cytosine (C), guanine (G), and uracil (U). Every species of bacteria and archaea has a slightly-unique version of its 16s rRNA gene. This means that 16s rRNA can be targeted to classify what marine bacteria are present in a given parcel of seawater.\n",
    "\n",
    "In the code box below, there are two strings containing different rRNA sequences, which differ from DNA in that they contain uracil (U) nucleobases rather than thymine (T). Answer the following questions using Python. As in Question 2, please have your code output (print) the solutions to each, including any strings you are asked to create or slice.\n",
    "\n",
    "> a) How many nucleobases are in each of the sequences?\n",
    "How many times does guanine (G) occur in each of the sequences? (5 points)\n",
    "\n",
    "> b) Do four uracil (U) nucleobases ever occur side-by-side in either of the sequences? Provide your answers as booleans. (5 points)\n",
    "\n",
    "> c) Change these rRNA sequences to DNA sequences by replacing the uracil (U) bases with thymine (T) bases in both rRNA sequences. (5 points)\n",
    "\n",
    "> d) Slice and print the first 24 nucleobases from the new DNA sequences. How many of each nucleobase (A,C,G,T) are in each of these shorter sequences? (5 points)"
   ]
  },
  {
   "cell_type": "code",
   "execution_count": null,
   "metadata": {
    "deletable": false,
    "editable": false,
    "executionInfo": {
     "elapsed": 229,
     "status": "ok",
     "timestamp": 1663811825673,
     "user": {
      "displayName": "Rose Sharon Wade",
      "userId": "05902729209638962087"
     },
     "user_tz": 420
    },
    "id": "5Hnpum3956nq",
    "tags": []
   },
   "outputs": [],
   "source": [
    "# Keep these starting lines of code – DO NOT CHANGE THIS!:\n",
    "\n",
    "RNA1 = 'GGGGGGCAGCAGUGGGGAAUAUUGGGCAAUGGACGAAAGUCUGACCCAGCCAUGCCGCGUGUGUGAAGAAGGCUCUAGGGUUGUAAUGCACUUUAAGUAGGGAGGAAAGGUUGUGUGUUAAUAGCACAUAGCUGUGACGUUACCUACAGAAUAAGCACCGGCUAACUCCGUGCCAGCAGCCGCGGUAAUACGGAGGGUGCAAGCGUUAAUCGGAAUUACUGGGCGUAAAGCGCGCGUAGGCGGUUAUUUAAGCUAGAUGUGAAAGCCCAGGGCUCAACCUUGGAAUUGCAUUUAGAACUGGGUAGCUAGAGUACAAGAGAGGGUGGUGGAAUUUCCAGUGUAGCGGUGAAAUGCGUAGAGAUUGGAAGGAACAUCAGUGGCGAAGGCGGCCACCUGGAUUGAUACUGACGCUGAGGUGCGAAAGCGUGGGGAGCAAACAGGAUUAGAUACCCCAGUAGUCCU'\n",
    "RNA2 = 'GGGGCGCAGCAGUGGGGAAUAUUGCACAAUGGGCGAAAGCCUGAUGCAGCCAUGCCGCGUGUGUGAAGAAGGCCUUCGGGUUGUAAAGCGCUUUCAGUUGUGAGGAAAGGGGUGUAGUUAAUAGCUACAUCCUGUGACGUUAGCAACAGAAGAAGCACCGGCUAACUUCGUGCCAGCAGCCUCGGUAAUACGAGGGGUGCAAGCGUUAAUCGGAAUUACUGGGCGUAAAGCGUUCGUAGGCGGUUUGUUAAGCAAGAUGUGAAAGCCCUGGGCUCAACCUGGGAACUGCAUUUUGAACUGGCAAACUAGAGUACUGUAGAGGGUGGUGGAAUUUCCAGUGUAGCGGUGAAAUGCGUAGAGAUUGGAAGGAACAUCAGUGGCGAAGGCGGCCACCUGGACAGAUACUGACGCUGAGGAACGAAAGCGUGGGGAGCAAACAGGAUUAGAUACCCUAGUAGUCUG'\n",
    "\n",
    "# Provide your answers in cells below:"
   ]
  },
  {
   "cell_type": "markdown",
   "metadata": {
    "deletable": false,
    "editable": false
   },
   "source": [
    "### part a\n",
    "How many nucleobases are in each of the sequences? How many times does guanine (G) occur in each of the sequences? (5 points)"
   ]
  },
  {
   "cell_type": "code",
   "execution_count": null,
   "metadata": {
    "tags": []
   },
   "outputs": [],
   "source": [
    "nucleocount1 = ...\n",
    "nucleocount2 = ...\n",
    "...\n",
    "\n",
    "gcount1 = ...\n",
    "gcount2 = ...\n",
    "..."
   ]
  },
  {
   "cell_type": "markdown",
   "metadata": {
    "deletable": false,
    "editable": false
   },
   "source": [
    "### part b\n",
    "Do four uracil (U) nucleobases ever occur side-by-side in either of the sequences? Provide your answers as booleans. (5 points)"
   ]
  },
  {
   "cell_type": "code",
   "execution_count": null,
   "metadata": {
    "tags": []
   },
   "outputs": [],
   "source": [
    "# report counter1 and counter2 back as booleans\n",
    "counter1 = ...\n",
    "counter2 = ...\n",
    "...\n",
    "print(...)"
   ]
  },
  {
   "cell_type": "markdown",
   "metadata": {
    "deletable": false,
    "editable": false
   },
   "source": [
    "### part c \n",
    "Change these rRNA sequences to DNA sequences by replacing the uracil (U) bases with thymine (T) bases in both rRNA sequences. (5 points)"
   ]
  },
  {
   "cell_type": "code",
   "execution_count": null,
   "metadata": {
    "tags": []
   },
   "outputs": [],
   "source": [
    "DNA1 = ...\n",
    "DNA2 = ...\n",
    "..."
   ]
  },
  {
   "cell_type": "markdown",
   "metadata": {
    "deletable": false,
    "editable": false
   },
   "source": [
    "### part d\n",
    "Slice and print the first 24 nucleobases from the new DNA sequences. How many of each nucleobase (A,C,G,T) are in each of these shorter sequences? (5 points)"
   ]
  },
  {
   "cell_type": "code",
   "execution_count": null,
   "metadata": {
    "tags": []
   },
   "outputs": [],
   "source": [
    "DNA1s = ... \n",
    "DNA2s = ...\n",
    "..."
   ]
  },
  {
   "cell_type": "markdown",
   "metadata": {
    "deletable": false,
    "editable": false,
    "id": "x-1BYDl99MSH"
   },
   "source": [
    "# Question 4 (25 Points)\n",
    "Tides in the Gulf of Mexico are usually diurnal. This means that there is one high tide and one low tide every ~24 hours. This differs from our local semi-diurnal Seattle tides that have one high and one low every ~12 hours. Tidal amplitudes in the Gulf of Mexico are also very small compared to our local Puget Sound tides.\n",
    "\n",
    "New Orleans, Louisiana is a city located on the Gulf of Mexico where diurnal tides dominate. The lists below contain the dates, high tide times, low tide times, high tide heights (in feet), and low tide heights (in feet) for tidal forcasts for the week of Oct. 1 - Oct 8, 2022. The lists are each the same length, with each index corresponding to a single day.\n",
    "\n",
    "Use these lists and build Python code to answer the following questions. As before, please have your code output (print) the solutions and units for each.\n",
    "\n",
    "> a) What is the maximum high tide measurement during this week? Find it's index in the list. (5 points)\n",
    "\n",
    "> b) Use list indexing to print the date of the maximum high tide. Calculate the tidal amplitude for that day. *(Hint: Tidal amplitude = maximum measurement - minumum measurement).* (5 points)\n",
    "\n",
    "> c) What is the minimum low tide measurement during this week? Find it's index in the list. *(Hint: There is one day that there is no tidal minimum, represented by None rather than a float. You cannot take the minimum of list with a NoneType object. Develop a creative workaround for this problem, and justify your method in your comments!)* (5 points)\n",
    "\n",
    "> d) Use list indexing to print the date of the minimum low tide. Calculate the tidal amplitude for that day (5 points).\n",
    "\n",
    "> e) Find out which of the two dates have the highest tidal amplitude using a boolean test. Print and label the date, low tide time, high tide time, and tidal amplitude in the same line.(5 points)\n"
   ]
  },
  {
   "cell_type": "code",
   "execution_count": null,
   "metadata": {
    "deletable": false,
    "editable": false,
    "executionInfo": {
     "elapsed": 360,
     "status": "ok",
     "timestamp": 1663817487987,
     "user": {
      "displayName": "Rose Sharon Wade",
      "userId": "05902729209638962087"
     },
     "user_tz": 420
    },
    "id": "2cdysu-2ADjN"
   },
   "outputs": [],
   "source": [
    "# Keep these starting lines of code – these may not be changed:\n",
    "dates = ['October 1','October 2','October 3','October 4','October 5','October 6','October 7','October 8']\n",
    "high_times = ['6:05AM','6:53AM','7:42AM','8:32AM','9:21AM','10:10AM','11:02AM','6:07PM']\n",
    "low_times = ['4:37PM','6:36PM','9:45PM','11:05PM', None,'00:07AM','1:02AM','1:55AM']\n",
    "high_measurement_feet = [1.57, 1.65, 1.67, 1.61, 1.44, 1.25, 1.02, 0.85]\n",
    "low_measurement_feet =  [-0.02, -0.07, -0.03, -0.02, None, 0.03, 0.16, 0.36]\n",
    "\n",
    "# Provide your answers below:"
   ]
  },
  {
   "cell_type": "markdown",
   "metadata": {
    "deletable": false,
    "editable": false
   },
   "source": [
    "### part a\n",
    "What is the maximum high tide measurement during this week? Find it's index in the list. (5 points)"
   ]
  },
  {
   "cell_type": "code",
   "execution_count": null,
   "metadata": {
    "tags": []
   },
   "outputs": [],
   "source": [
    "baseline = ...\n",
    "baseindex = ...\n",
    "print(...)"
   ]
  },
  {
   "cell_type": "markdown",
   "metadata": {
    "deletable": false,
    "editable": false
   },
   "source": [
    "### part b\n",
    "Use list indexing to print the date of the maximum high tide. Calculate the tidal amplitude for that day. (Hint: Tidal amplitude = maximum measurement - minumum measurement). (5 points)"
   ]
  },
  {
   "cell_type": "code",
   "execution_count": null,
   "metadata": {
    "tags": []
   },
   "outputs": [],
   "source": [
    "oct3amp = ...\n",
    "print(...)"
   ]
  },
  {
   "cell_type": "markdown",
   "metadata": {
    "deletable": false,
    "editable": false
   },
   "source": [
    "### part c\n",
    "What is the minimum low tide measurement during this week? Find it's index in the list. (Hint: There is one day that there is no tidal minimum, represented by None rather than a float. You cannot take the minimum of list with a NoneType object. Develop a creative workaround for this problem, and justify your method in your comments!) (5 points)"
   ]
  },
  {
   "cell_type": "code",
   "execution_count": null,
   "metadata": {
    "tags": []
   },
   "outputs": [],
   "source": [
    "minbase = ...\n",
    "minbaseindex = ...\n",
    "print(...)"
   ]
  },
  {
   "cell_type": "markdown",
   "metadata": {
    "deletable": false,
    "editable": false
   },
   "source": [
    "### part d\n",
    "Use list indexing to print the date of the minimum low tide. Calculate the tidal amplitude for that day (5 points)."
   ]
  },
  {
   "cell_type": "code",
   "execution_count": null,
   "metadata": {
    "tags": []
   },
   "outputs": [],
   "source": [
    "oct2amp = ...\n",
    "print(...)"
   ]
  },
  {
   "cell_type": "markdown",
   "metadata": {
    "deletable": false,
    "editable": false
   },
   "source": [
    "### part e\n",
    "Find out which of the two dates have the highest tidal amplitude using a boolean test. Print and label the date, low tide time, high tide time, and tidal amplitude in the same line.(5 points)"
   ]
  },
  {
   "cell_type": "code",
   "execution_count": null,
   "metadata": {
    "tags": []
   },
   "outputs": [],
   "source": [
    "print (\"part e)\")\n",
    "..."
   ]
  }
 ],
 "metadata": {
  "colab": {
   "authorship_tag": "ABX9TyOjomp/NkRPlDUGvckOIWkc",
   "collapsed_sections": [],
   "provenance": []
  },
  "kernelspec": {
   "display_name": "Python 3 (ipykernel)",
   "language": "python",
   "name": "python3"
  },
  "language_info": {
   "codemirror_mode": {
    "name": "ipython",
    "version": 3
   },
   "file_extension": ".py",
   "mimetype": "text/x-python",
   "name": "python",
   "nbconvert_exporter": "python",
   "pygments_lexer": "ipython3",
   "version": "3.10.10"
  },
  "otter": {
   "OK_FORMAT": true,
   "assignment_name": "Homework 1",
   "tests": {
    "Question 2": {
     "name": "Question 2",
     "points": 25,
     "suites": [
      {
       "cases": [
        {
         "code": ">>> pelagic[-1] == 200\nTrue",
         "hidden": false,
         "locked": false
        },
        {
         "code": ">>> assert coastal[-1] == 50\n",
         "hidden": false,
         "locked": false
        }
       ],
       "scored": true,
       "setup": "",
       "teardown": "",
       "type": "doctest"
      }
     ]
    }
   }
  }
 },
 "nbformat": 4,
 "nbformat_minor": 4
}
